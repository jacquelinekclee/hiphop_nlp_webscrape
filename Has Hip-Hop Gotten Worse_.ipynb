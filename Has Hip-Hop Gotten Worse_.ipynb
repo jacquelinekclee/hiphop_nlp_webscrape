{
 "cells": [
  {
   "cell_type": "markdown",
   "metadata": {},
   "source": [
    "# Has Hip-Hop Gotten Worse? - Web Scraping and NLP Project\n",
    "\n",
    "## Table of Contents\n",
    "- [URLs](#urls)\n",
    "- [Lyrics](#lyrics)\n",
    "  - [Bars](#bars)\n",
    "  - [Average Syllables](#syllables)\n",
    "  - [End Words](#end-words)\n",
    "- [Rhyme Related Metrics](#rhymes)\n",
    "- [Stop Words](#stops)\n",
    "- [Unique Words](#uniques)\n",
    "- [Create the DataFrame](#df)\n",
    "- [Plotting the Data](#plots)\n",
    "  - [% Unique Words vs. Year](#unique-plot)\n",
    "  - [% Stop Words vs. Year](#stops-plot)\n",
    "  - [Average Syllabeles per Bar vs. Year](#syllables-plot)\n",
    "  - [% Unique Rhymes vs. Year](#rhymes-plot)\n",
    "- [The Best and Worst Songs of Each Metric](#best-worst)\n",
    "- [Which Metrics are Most Meaningful](#statistics)\n",
    "- [Conclusion](#conclusion)\n",
    "\n",
    "For and in-depth description of the project, please refer to the [GitHub repository](https://github.com/jacquelinekclee/hiphop_nlp_webscrape).\n",
    "\n",
    "Here are some quick definitions of terms used in this project:\n",
    "* **[Bar](https://www.lexico.com/en/definition/bar)**: One line of lyrics. Detected by line break characters. Typically takes four beats.\n",
    "* **[End rhymes](https://literarydevices.net/end-rhyme/)**: Rhymes that occur with the last word/syllables of a bar. Example: \"I like greens / She likes beans\" (greens and beans, the last word of each bar/line, rhyme).\n",
    "* **[Exact rhyme](https://literarydevices.net/exact-rhyme/)**: When the vowel sound and final consonant of two words are phonetically the same, e.g. greens and beans.\n",
    "* **[Vowel rhyme](https://www.thefreedictionary.com/vowel+rhyme)**: When the vowel sound of two words are phonetically the same, e.g. green and seem.\n",
    "* **[Stop word](https://www.geeksforgeeks.org/removing-stop-words-nltk-python)**: A word that does not contribute much meaning, e.g. the, a, an. Search engines are programmed to ignore these words, and ignoring these words both save processing time and allow us to analyze lyrics more meaningfully.\n",
    "\n",
    "#### Source Files\n",
    "* [web_scrape.py](web_scrape.py)\n",
    "* [lyrics.py](lyrics.py)\n",
    "* [rhyme.py](rhyme.py)\n"
   ]
  },
  {
   "cell_type": "markdown",
   "metadata": {},
   "source": [
    "### Imports "
   ]
  },
  {
   "cell_type": "code",
   "execution_count": 1,
   "metadata": {},
   "outputs": [
    {
     "name": "stderr",
     "output_type": "stream",
     "text": [
      "[nltk_data] Downloading package stopwords to\n",
      "[nltk_data]     /Users/jacquelineklee/nltk_data...\n",
      "[nltk_data]   Package stopwords is already up-to-date!\n",
      "[nltk_data] Downloading package cmudict to\n",
      "[nltk_data]     /Users/jacquelineklee/nltk_data...\n",
      "[nltk_data]   Package cmudict is already up-to-date!\n"
     ]
    }
   ],
   "source": [
    "import numpy as np\n",
    "import pandas as pd\n",
    "from web_scrape import *\n",
    "from lyrics import *\n",
    "from rhyme import *\n",
    "import scipy.stats\n",
    "import seaborn as sns\n",
    "import matplotlib.pyplot as plt\n",
    "\n",
    "%matplotlib inline"
   ]
  },
  {
   "cell_type": "markdown",
   "metadata": {},
   "source": [
    "## The URLs<a class=\"anchor\" id=\"urls\"></a> "
   ]
  },
  {
   "cell_type": "code",
   "execution_count": 2,
   "metadata": {},
   "outputs": [],
   "source": [
    "\"\"\"\n",
    "list of all the information about each song: url, title (as posted on AZLyrics), corresponding year\n",
    "(as indicated by Complex article or year song won Best Rap Song)\n",
    "\"\"\"\n",
    "urls = [('https://www.azlyrics.com/lyrics/llcoolj/mamasaidknockyouout.html', '\"Mama Said Knock You Out\"', 1990),\n",
    "        ('https://www.azlyrics.com/lyrics/getoboys/mymindplayintricksonme.html', '\"My Mind Playin\\' Tricks On Me\"', 1991),\n",
    "        ('https://www.azlyrics.com/lyrics/drdre/nuthinbutagthang.html', '\"Nuthin But A \"G\" Thang\\\"\\n(feat. Snoop Doggy Dogg)', 1992),\n",
    "        ('https://www.azlyrics.com/lyrics/snoopdogg/ginandjuice.html', '\"Gin And Juice\"', 1993),\n",
    "        ('https://www.azlyrics.com/lyrics/notoriousbig/juicy.html', '\"Juicy\\\"\\n(from \"Notorious\" soundtrack)', 1994),\n",
    "        ('https://www.azlyrics.com/lyrics/mobbdeep/shookonespartii.html', '\"Shook Ones Part II\"', 1995),\n",
    "        ('https://www.azlyrics.com/lyrics/2pac/californialove.html', '\"California Love\"\\n(feat. Dr. Dre,  Roger Troutman)', 1996),\n",
    "        ('https://www.azlyrics.com/lyrics/puffdaddy/itsallaboutthebenjaminsremix.html', '\"It\\'s All About The Benjamins (Remix)\"\\n(feat. Lil\\' Kim, The Lox, Notorious B.I.G.)', 1997),\n",
    "        ('https://www.azlyrics.com/lyrics/dmx/ruffrydersanthem.html', '\"Ruff Ryders Anthem\"', 1998),\n",
    "        ('https://www.azlyrics.com/lyrics/drdre/stilldre.html', '\"Still D.R.E.\"\\n(feat. Snoop Dogg)', 1999),\n",
    "        ('https://www.azlyrics.com/lyrics/jayz/ijustwannaloveugiveit2me.html', '\"I Just Wanna Love U (Give It 2 Me)\"', 2000),\n",
    "         ('https://www.azlyrics.com/lyrics/jadakiss/wegonnamakeit.html', '\"We Gonna Make It\"\\n(feat. Styles)', 2001),\n",
    "         ('https://www.azlyrics.com/lyrics/clipse/grindin.html', '\"Grindin\\'\"\\n(feat. Pharrell Williams)', 2002),\n",
    "         ('https://www.azlyrics.com/lyrics/50cent/indaclub.html', '\"In Da Club\"', 2003),\n",
    "         ('https://www.azlyrics.com/lyrics/eminem/loseyourself.html', '\"Lose Yourself\"', 2004),\n",
    "         ('https://www.azlyrics.com/lyrics/kanyewest/jesuswalks.html', '\"Jesus Walks\"', 2005),\n",
    "         ('https://www.azlyrics.com/lyrics/kanyewest/diamondsfromsierraleone.html', '\"Diamonds From Sierra Leone\"', 2006),\n",
    "         ('https://www.azlyrics.com/lyrics/ludacris/moneymaker.html', '\"Money Maker\"\\n(feat. Pharrell)', 2007),\n",
    "         ('https://www.azlyrics.com/lyrics/kanyewest/goodlife.html', '\"Good Life\"\\n(feat. T-Pain)', 2008),\n",
    "         ('https://www.azlyrics.com/lyrics/lilwayne/lollipop.html', '\"Lollipop\"\\n(feat. Static Major)', 2009),\n",
    "         ('https://www.azlyrics.com/lyrics/jayz/runthistown.html', '\"Run This Town\"\\n(feat. Rihanna, Kanye West)', 2010),\n",
    "         ('https://www.azlyrics.com/lyrics/jayz/empirestateofmind.html', '\"Empire State Of Mind\"\\n(feat. Alicia Keys)', 2011),\n",
    "         ('https://www.azlyrics.com/lyrics/kanyewest/allofthelights.html', '\"All Of The Lights\"\\n(feat. John Legend, The-Dream, Elly Jackson, Alicia Keys, Fergie, Kid Cudi, Elton John, Rihanna)', 2012),\n",
    "         ('https://www.azlyrics.com/lyrics/kanyewest/niggasinparis.html', '\"Niggas In Paris\"\\n(with Jay-Z)', 2013),\n",
    "         ('https://www.azlyrics.com/lyrics/macklemore/thriftshop.html', '\"Thrift Shop\"\\n(feat. Wanz)', 2014),\n",
    "         ('https://www.azlyrics.com/lyrics/kendricklamar/i.html', '\"i\"', 2015),\n",
    "         ('https://www.azlyrics.com/lyrics/kendricklamar/alright.html', '\"Alright\"', 2016),\n",
    "         ('https://www.azlyrics.com/lyrics/drake/hotlinebling.html', '\"Hotline Bling\"\\n(remix of D.R.A.M.\\'s \"Cha Cha\")', 2017),\n",
    "         ('https://www.azlyrics.com/lyrics/kendricklamar/humble.html', '\"HUMBLE.\"', 2018),\n",
    "         ('https://www.azlyrics.com/lyrics/drake/godsplan.html', '\"God\\'s Plan\"', 2019),\n",
    "         ('https://www.azlyrics.com/lyrics/21savage/alot.html', '\"a lot\"\\n(feat. J. Cole)', 2020)\n",
    "        ]"
   ]
  },
  {
   "cell_type": "markdown",
   "metadata": {},
   "source": [
    "## Process URLs to Get the Lyrics<a class=\"anchor\" id=\"lyrics\"></a> "
   ]
  },
  {
   "cell_type": "code",
   "execution_count": 4,
   "metadata": {
    "scrolled": false
   },
   "outputs": [],
   "source": [
    "# list of strings, each string contains all lyrics\n",
    "lyrics = []\n",
    "for tup in urls:\n",
    "    lyrics.append(process_url(tup[0], tup[1]))"
   ]
  },
  {
   "cell_type": "code",
   "execution_count": 5,
   "metadata": {},
   "outputs": [],
   "source": [
    "# save all the lyrics to files and store all file paths in list\n",
    "lyrics_file_paths = []\n",
    "for i in range(len(urls)):\n",
    "    title = urls[i][1].lower().replace('\\n', '_')\n",
    "    title = title.replace(' ', '_')\n",
    "    file = title + '.txt'\n",
    "    lyrics_file_paths.append(file)\n",
    "    with open(file, 'w') as output:\n",
    "        output.write(lyrics[i] + '\\n')"
   ]
  },
  {
   "cell_type": "markdown",
   "metadata": {},
   "source": [
    "#### Divide Lyrics into Bars<a class=\"anchor\" id=\"bars\"></a>"
   ]
  },
  {
   "cell_type": "code",
   "execution_count": 6,
   "metadata": {},
   "outputs": [],
   "source": [
    "# list of lists where each string in a sublist is one bar and each sublist is one song's bars\n",
    "bars = []\n",
    "all_words = []\n",
    "for string in lyrics:\n",
    "    bars.append(get_bars(string))\n",
    "    all_words.append(get_all_words(string))"
   ]
  },
  {
   "cell_type": "markdown",
   "metadata": {},
   "source": [
    "#### Average Syllables<a class=\"anchor\" id=\"syllables\"></a> "
   ]
  },
  {
   "cell_type": "code",
   "execution_count": 7,
   "metadata": {},
   "outputs": [],
   "source": [
    "# calculate average number of syllables per bar for each song\n",
    "avg_syllables = []\n",
    "for bar in bars:\n",
    "    avg_syllables.append(get_average_syllables(bar))"
   ]
  },
  {
   "cell_type": "markdown",
   "metadata": {},
   "source": [
    "#### End Words<a class=\"anchor\" id=\"end-words\"></a> "
   ]
  },
  {
   "cell_type": "code",
   "execution_count": 8,
   "metadata": {},
   "outputs": [],
   "source": [
    "# get each end word from each bar (last word of bar)\n",
    "end_words = []\n",
    "for bar in bars:\n",
    "    end_words.append(get_end_words(bar))"
   ]
  },
  {
   "cell_type": "markdown",
   "metadata": {},
   "source": [
    "## Rhyme Related Metrics<a class=\"anchor\" id=\"rhymes\"></a>"
   ]
  },
  {
   "cell_type": "code",
   "execution_count": 9,
   "metadata": {},
   "outputs": [],
   "source": [
    "# couplets = 2 bars\n",
    "# total rhymes / total couplets\n",
    "props_total_rhymes = []\n",
    "\n",
    "# unique rhymes / total couplets\n",
    "props_unique_rhymes = []\n",
    "\n",
    "# unique rhymes / total rhymes\n",
    "props_unique_to_total_rhymes = []\n",
    "for i in range(len(end_words)):\n",
    "    ends = end_words[i]\n",
    "    num_couplets = len(bars[i]) / 2\n",
    "    rhyme_tup = count_rhymes(ends)\n",
    "    props_total_rhymes.append(rhyme_tup[0] / num_couplets)\n",
    "    props_unique_rhymes.append(rhyme_tup[1] / num_couplets)\n",
    "    props_unique_to_total_rhymes.append(rhyme_tup[1] / rhyme_tup[0])"
   ]
  },
  {
   "cell_type": "markdown",
   "metadata": {},
   "source": [
    "## Stop Words<a class=\"anchor\" id=\"stops\"></a> "
   ]
  },
  {
   "cell_type": "code",
   "execution_count": 10,
   "metadata": {},
   "outputs": [],
   "source": [
    "# list of words, excluding the stop words\n",
    "no_stop_words = []\n",
    "\n",
    "# number of total words\n",
    "total_words = []\n",
    "for words in all_words:\n",
    "    no_stop_words.append(remove_stop_words(words))\n",
    "    total_words.append(get_total_words(words))"
   ]
  },
  {
   "cell_type": "markdown",
   "metadata": {},
   "source": [
    "## Unique Words<a class=\"anchor\" id=\"uniques\"></a> "
   ]
  },
  {
   "cell_type": "code",
   "execution_count": 11,
   "metadata": {},
   "outputs": [],
   "source": [
    "# get all the unique words (excluding stop words) for each song\n",
    "unique_words = []\n",
    "for no_stops in no_stop_words:\n",
    "    unique_words.append(get_unique_words(no_stops))"
   ]
  },
  {
   "cell_type": "code",
   "execution_count": 12,
   "metadata": {},
   "outputs": [],
   "source": [
    "# num unique words / num total words\n",
    "props_unique_words = []\n",
    "\n",
    "# num stop words / num total words\n",
    "props_stop_words = []\n",
    "\n",
    "# dataframes with each unique word and its number of occurences\n",
    "word_counts = []\n",
    "for i in range(len(unique_words)):\n",
    "    uniques = unique_words[i]\n",
    "    no_stops = no_stop_words[i]\n",
    "    total = total_words[i]\n",
    "    props_unique_words.append(get_prop_unique_words(uniques, total))\n",
    "    props_stop_words.append(get_prop_stops(no_stops, total))\n",
    "    word_counts.append(get_word_counts(no_stops, uniques))"
   ]
  },
  {
   "cell_type": "code",
   "execution_count": 13,
   "metadata": {},
   "outputs": [],
   "source": [
    "# use tuples from above to get each song title and year\n",
    "titles = []\n",
    "years = []\n",
    "for url in urls:\n",
    "    titles.append(url[1])\n",
    "    years.append(url[2])"
   ]
  },
  {
   "cell_type": "markdown",
   "metadata": {},
   "source": [
    "## Create the DataFrame<a class=\"anchor\" id=\"df\"></a>"
   ]
  },
  {
   "cell_type": "code",
   "execution_count": 14,
   "metadata": {},
   "outputs": [],
   "source": [
    "# create the dataframe with all of the data\n",
    "song_data = {'Song Title':titles, 'Year':years, '% Unique Words to All Words (Excluding Stop Words)':props_unique_words, '% Stop Words to Total Words':props_stop_words,\n",
    "             'Average Syllables Per Bar':avg_syllables, '% Unique Rhymes to All Rhymes':props_unique_to_total_rhymes, '% Couplets That Rhyme':props_total_rhymes}\n",
    "songs_df = pd.DataFrame(data=song_data)"
   ]
  },
  {
   "cell_type": "code",
   "execution_count": 15,
   "metadata": {
    "scrolled": true
   },
   "outputs": [
    {
     "data": {
      "text/html": [
       "<div>\n",
       "<style scoped>\n",
       "    .dataframe tbody tr th:only-of-type {\n",
       "        vertical-align: middle;\n",
       "    }\n",
       "\n",
       "    .dataframe tbody tr th {\n",
       "        vertical-align: top;\n",
       "    }\n",
       "\n",
       "    .dataframe thead th {\n",
       "        text-align: right;\n",
       "    }\n",
       "</style>\n",
       "<table border=\"1\" class=\"dataframe\">\n",
       "  <thead>\n",
       "    <tr style=\"text-align: right;\">\n",
       "      <th></th>\n",
       "      <th>Song Title</th>\n",
       "      <th>Year</th>\n",
       "      <th>% Unique Words to All Words (Excluding Stop Words)</th>\n",
       "      <th>% Stop Words to Total Words</th>\n",
       "      <th>Average Syllables Per Bar</th>\n",
       "      <th>% Unique Rhymes to All Rhymes</th>\n",
       "      <th>% Couplets That Rhyme</th>\n",
       "    </tr>\n",
       "  </thead>\n",
       "  <tbody>\n",
       "    <tr>\n",
       "      <td>0</td>\n",
       "      <td>\"Mama Said Knock You Out\"</td>\n",
       "      <td>1990</td>\n",
       "      <td>0.318919</td>\n",
       "      <td>0.416216</td>\n",
       "      <td>6.697248</td>\n",
       "      <td>0.345238</td>\n",
       "      <td>1.541284</td>\n",
       "    </tr>\n",
       "    <tr>\n",
       "      <td>1</td>\n",
       "      <td>\"My Mind Playin' Tricks On Me\"</td>\n",
       "      <td>1991</td>\n",
       "      <td>0.385154</td>\n",
       "      <td>0.491597</td>\n",
       "      <td>10.472527</td>\n",
       "      <td>1.000000</td>\n",
       "      <td>0.593407</td>\n",
       "    </tr>\n",
       "    <tr>\n",
       "      <td>2</td>\n",
       "      <td>\"Nuthin But A \"G\" Thang\"\\n(feat. Snoop Doggy D...</td>\n",
       "      <td>1992</td>\n",
       "      <td>0.304590</td>\n",
       "      <td>0.496523</td>\n",
       "      <td>11.392857</td>\n",
       "      <td>0.805556</td>\n",
       "      <td>0.857143</td>\n",
       "    </tr>\n",
       "    <tr>\n",
       "      <td>3</td>\n",
       "      <td>\"Gin And Juice\"</td>\n",
       "      <td>1993</td>\n",
       "      <td>0.314233</td>\n",
       "      <td>0.476895</td>\n",
       "      <td>11.950000</td>\n",
       "      <td>0.937500</td>\n",
       "      <td>0.533333</td>\n",
       "    </tr>\n",
       "    <tr>\n",
       "      <td>4</td>\n",
       "      <td>\"Juicy\"\\n(from \"Notorious\" soundtrack)</td>\n",
       "      <td>1994</td>\n",
       "      <td>0.421705</td>\n",
       "      <td>0.443411</td>\n",
       "      <td>10.804878</td>\n",
       "      <td>0.869565</td>\n",
       "      <td>0.560976</td>\n",
       "    </tr>\n",
       "    <tr>\n",
       "      <td>5</td>\n",
       "      <td>\"Shook Ones Part II\"</td>\n",
       "      <td>1995</td>\n",
       "      <td>0.329936</td>\n",
       "      <td>0.442038</td>\n",
       "      <td>11.532609</td>\n",
       "      <td>0.656250</td>\n",
       "      <td>1.391304</td>\n",
       "    </tr>\n",
       "    <tr>\n",
       "      <td>6</td>\n",
       "      <td>\"California Love\"\\n(feat. Dr. Dre,  Roger Trou...</td>\n",
       "      <td>1996</td>\n",
       "      <td>0.307143</td>\n",
       "      <td>0.448214</td>\n",
       "      <td>9.962500</td>\n",
       "      <td>0.760000</td>\n",
       "      <td>0.625000</td>\n",
       "    </tr>\n",
       "    <tr>\n",
       "      <td>7</td>\n",
       "      <td>\"It's All About The Benjamins (Remix)\"\\n(feat....</td>\n",
       "      <td>1997</td>\n",
       "      <td>0.437418</td>\n",
       "      <td>0.415020</td>\n",
       "      <td>10.375000</td>\n",
       "      <td>0.833333</td>\n",
       "      <td>0.576923</td>\n",
       "    </tr>\n",
       "    <tr>\n",
       "      <td>8</td>\n",
       "      <td>\"Ruff Ryders Anthem\"</td>\n",
       "      <td>1998</td>\n",
       "      <td>0.313821</td>\n",
       "      <td>0.419512</td>\n",
       "      <td>11.362319</td>\n",
       "      <td>0.764706</td>\n",
       "      <td>0.985507</td>\n",
       "    </tr>\n",
       "    <tr>\n",
       "      <td>9</td>\n",
       "      <td>\"Still D.R.E.\"\\n(feat. Snoop Dogg)</td>\n",
       "      <td>1999</td>\n",
       "      <td>0.367213</td>\n",
       "      <td>0.406557</td>\n",
       "      <td>10.240000</td>\n",
       "      <td>0.911765</td>\n",
       "      <td>0.906667</td>\n",
       "    </tr>\n",
       "    <tr>\n",
       "      <td>10</td>\n",
       "      <td>\"I Just Wanna Love U (Give It 2 Me)\"</td>\n",
       "      <td>2000</td>\n",
       "      <td>0.329268</td>\n",
       "      <td>0.463415</td>\n",
       "      <td>9.014085</td>\n",
       "      <td>0.714286</td>\n",
       "      <td>0.788732</td>\n",
       "    </tr>\n",
       "    <tr>\n",
       "      <td>11</td>\n",
       "      <td>\"We Gonna Make It\"\\n(feat. Styles)</td>\n",
       "      <td>2001</td>\n",
       "      <td>0.405594</td>\n",
       "      <td>0.465035</td>\n",
       "      <td>11.424242</td>\n",
       "      <td>1.000000</td>\n",
       "      <td>0.696970</td>\n",
       "    </tr>\n",
       "    <tr>\n",
       "      <td>12</td>\n",
       "      <td>\"Grindin'\"\\n(feat. Pharrell Williams)</td>\n",
       "      <td>2002</td>\n",
       "      <td>0.382514</td>\n",
       "      <td>0.435337</td>\n",
       "      <td>8.964286</td>\n",
       "      <td>0.615385</td>\n",
       "      <td>1.238095</td>\n",
       "    </tr>\n",
       "    <tr>\n",
       "      <td>13</td>\n",
       "      <td>\"In Da Club\"</td>\n",
       "      <td>2003</td>\n",
       "      <td>0.243161</td>\n",
       "      <td>0.490881</td>\n",
       "      <td>12.382353</td>\n",
       "      <td>0.529412</td>\n",
       "      <td>1.500000</td>\n",
       "    </tr>\n",
       "    <tr>\n",
       "      <td>14</td>\n",
       "      <td>\"Lose Yourself\"</td>\n",
       "      <td>2004</td>\n",
       "      <td>0.313208</td>\n",
       "      <td>0.475472</td>\n",
       "      <td>13.290698</td>\n",
       "      <td>0.627451</td>\n",
       "      <td>1.186047</td>\n",
       "    </tr>\n",
       "    <tr>\n",
       "      <td>15</td>\n",
       "      <td>\"Jesus Walks\"</td>\n",
       "      <td>2005</td>\n",
       "      <td>0.357741</td>\n",
       "      <td>0.479079</td>\n",
       "      <td>13.104167</td>\n",
       "      <td>0.880000</td>\n",
       "      <td>1.041667</td>\n",
       "    </tr>\n",
       "    <tr>\n",
       "      <td>16</td>\n",
       "      <td>\"Diamonds From Sierra Leone\"</td>\n",
       "      <td>2006</td>\n",
       "      <td>0.357895</td>\n",
       "      <td>0.425564</td>\n",
       "      <td>11.756098</td>\n",
       "      <td>0.615385</td>\n",
       "      <td>1.268293</td>\n",
       "    </tr>\n",
       "    <tr>\n",
       "      <td>17</td>\n",
       "      <td>\"Money Maker\"\\n(feat. Pharrell)</td>\n",
       "      <td>2007</td>\n",
       "      <td>0.355895</td>\n",
       "      <td>0.489083</td>\n",
       "      <td>10.771930</td>\n",
       "      <td>0.800000</td>\n",
       "      <td>0.877193</td>\n",
       "    </tr>\n",
       "    <tr>\n",
       "      <td>18</td>\n",
       "      <td>\"Good Life\"\\n(feat. T-Pain)</td>\n",
       "      <td>2008</td>\n",
       "      <td>0.276000</td>\n",
       "      <td>0.460000</td>\n",
       "      <td>9.953125</td>\n",
       "      <td>0.800000</td>\n",
       "      <td>0.937500</td>\n",
       "    </tr>\n",
       "    <tr>\n",
       "      <td>19</td>\n",
       "      <td>\"Lollipop\"\\n(feat. Static Major)</td>\n",
       "      <td>2009</td>\n",
       "      <td>0.168959</td>\n",
       "      <td>0.447937</td>\n",
       "      <td>7.377778</td>\n",
       "      <td>0.370370</td>\n",
       "      <td>1.800000</td>\n",
       "    </tr>\n",
       "    <tr>\n",
       "      <td>20</td>\n",
       "      <td>\"Run This Town\"\\n(feat. Rihanna, Kanye West)</td>\n",
       "      <td>2010</td>\n",
       "      <td>0.372881</td>\n",
       "      <td>0.447458</td>\n",
       "      <td>7.042735</td>\n",
       "      <td>0.708333</td>\n",
       "      <td>0.820513</td>\n",
       "    </tr>\n",
       "    <tr>\n",
       "      <td>21</td>\n",
       "      <td>\"Empire State Of Mind\"\\n(feat. Alicia Keys)</td>\n",
       "      <td>2011</td>\n",
       "      <td>0.358519</td>\n",
       "      <td>0.400000</td>\n",
       "      <td>11.047619</td>\n",
       "      <td>0.545455</td>\n",
       "      <td>0.523810</td>\n",
       "    </tr>\n",
       "    <tr>\n",
       "      <td>22</td>\n",
       "      <td>\"All Of The Lights\"\\n(feat. John Legend, The-D...</td>\n",
       "      <td>2012</td>\n",
       "      <td>0.204409</td>\n",
       "      <td>0.464930</td>\n",
       "      <td>7.120879</td>\n",
       "      <td>0.375000</td>\n",
       "      <td>1.582418</td>\n",
       "    </tr>\n",
       "    <tr>\n",
       "      <td>23</td>\n",
       "      <td>\"Niggas In Paris\"\\n(with Jay-Z)</td>\n",
       "      <td>2013</td>\n",
       "      <td>0.362683</td>\n",
       "      <td>0.419287</td>\n",
       "      <td>9.101449</td>\n",
       "      <td>0.710526</td>\n",
       "      <td>1.101449</td>\n",
       "    </tr>\n",
       "    <tr>\n",
       "      <td>24</td>\n",
       "      <td>\"Thrift Shop\"\\n(feat. Wanz)</td>\n",
       "      <td>2014</td>\n",
       "      <td>0.353038</td>\n",
       "      <td>0.407225</td>\n",
       "      <td>11.324675</td>\n",
       "      <td>0.909091</td>\n",
       "      <td>0.571429</td>\n",
       "    </tr>\n",
       "    <tr>\n",
       "      <td>25</td>\n",
       "      <td>\"i\"</td>\n",
       "      <td>2015</td>\n",
       "      <td>0.307457</td>\n",
       "      <td>0.454545</td>\n",
       "      <td>11.495798</td>\n",
       "      <td>0.740000</td>\n",
       "      <td>0.840336</td>\n",
       "    </tr>\n",
       "    <tr>\n",
       "      <td>26</td>\n",
       "      <td>\"Alright\"</td>\n",
       "      <td>2016</td>\n",
       "      <td>0.373383</td>\n",
       "      <td>0.487985</td>\n",
       "      <td>11.106061</td>\n",
       "      <td>0.578947</td>\n",
       "      <td>1.151515</td>\n",
       "    </tr>\n",
       "    <tr>\n",
       "      <td>27</td>\n",
       "      <td>\"Hotline Bling\"\\n(remix of D.R.A.M.'s \"Cha Cha\")</td>\n",
       "      <td>2017</td>\n",
       "      <td>0.173121</td>\n",
       "      <td>0.507973</td>\n",
       "      <td>9.343750</td>\n",
       "      <td>0.500000</td>\n",
       "      <td>1.062500</td>\n",
       "    </tr>\n",
       "    <tr>\n",
       "      <td>28</td>\n",
       "      <td>\"HUMBLE.\"</td>\n",
       "      <td>2018</td>\n",
       "      <td>0.340580</td>\n",
       "      <td>0.456522</td>\n",
       "      <td>7.739130</td>\n",
       "      <td>0.166667</td>\n",
       "      <td>1.739130</td>\n",
       "    </tr>\n",
       "    <tr>\n",
       "      <td>29</td>\n",
       "      <td>\"God's Plan\"</td>\n",
       "      <td>2019</td>\n",
       "      <td>0.274052</td>\n",
       "      <td>0.475219</td>\n",
       "      <td>8.169811</td>\n",
       "      <td>0.333333</td>\n",
       "      <td>1.245283</td>\n",
       "    </tr>\n",
       "    <tr>\n",
       "      <td>30</td>\n",
       "      <td>\"a lot\"\\n(feat. J. Cole)</td>\n",
       "      <td>2020</td>\n",
       "      <td>0.234244</td>\n",
       "      <td>0.509454</td>\n",
       "      <td>9.846774</td>\n",
       "      <td>0.406593</td>\n",
       "      <td>1.467742</td>\n",
       "    </tr>\n",
       "  </tbody>\n",
       "</table>\n",
       "</div>"
      ],
      "text/plain": [
       "                                           Song Title  Year  \\\n",
       "0                           \"Mama Said Knock You Out\"  1990   \n",
       "1                      \"My Mind Playin' Tricks On Me\"  1991   \n",
       "2   \"Nuthin But A \"G\" Thang\"\\n(feat. Snoop Doggy D...  1992   \n",
       "3                                     \"Gin And Juice\"  1993   \n",
       "4              \"Juicy\"\\n(from \"Notorious\" soundtrack)  1994   \n",
       "5                                \"Shook Ones Part II\"  1995   \n",
       "6   \"California Love\"\\n(feat. Dr. Dre,  Roger Trou...  1996   \n",
       "7   \"It's All About The Benjamins (Remix)\"\\n(feat....  1997   \n",
       "8                                \"Ruff Ryders Anthem\"  1998   \n",
       "9                  \"Still D.R.E.\"\\n(feat. Snoop Dogg)  1999   \n",
       "10               \"I Just Wanna Love U (Give It 2 Me)\"  2000   \n",
       "11                 \"We Gonna Make It\"\\n(feat. Styles)  2001   \n",
       "12              \"Grindin'\"\\n(feat. Pharrell Williams)  2002   \n",
       "13                                       \"In Da Club\"  2003   \n",
       "14                                    \"Lose Yourself\"  2004   \n",
       "15                                      \"Jesus Walks\"  2005   \n",
       "16                       \"Diamonds From Sierra Leone\"  2006   \n",
       "17                    \"Money Maker\"\\n(feat. Pharrell)  2007   \n",
       "18                        \"Good Life\"\\n(feat. T-Pain)  2008   \n",
       "19                   \"Lollipop\"\\n(feat. Static Major)  2009   \n",
       "20       \"Run This Town\"\\n(feat. Rihanna, Kanye West)  2010   \n",
       "21        \"Empire State Of Mind\"\\n(feat. Alicia Keys)  2011   \n",
       "22  \"All Of The Lights\"\\n(feat. John Legend, The-D...  2012   \n",
       "23                    \"Niggas In Paris\"\\n(with Jay-Z)  2013   \n",
       "24                        \"Thrift Shop\"\\n(feat. Wanz)  2014   \n",
       "25                                                \"i\"  2015   \n",
       "26                                          \"Alright\"  2016   \n",
       "27   \"Hotline Bling\"\\n(remix of D.R.A.M.'s \"Cha Cha\")  2017   \n",
       "28                                          \"HUMBLE.\"  2018   \n",
       "29                                       \"God's Plan\"  2019   \n",
       "30                           \"a lot\"\\n(feat. J. Cole)  2020   \n",
       "\n",
       "    % Unique Words to All Words (Excluding Stop Words)  \\\n",
       "0                                            0.318919    \n",
       "1                                            0.385154    \n",
       "2                                            0.304590    \n",
       "3                                            0.314233    \n",
       "4                                            0.421705    \n",
       "5                                            0.329936    \n",
       "6                                            0.307143    \n",
       "7                                            0.437418    \n",
       "8                                            0.313821    \n",
       "9                                            0.367213    \n",
       "10                                           0.329268    \n",
       "11                                           0.405594    \n",
       "12                                           0.382514    \n",
       "13                                           0.243161    \n",
       "14                                           0.313208    \n",
       "15                                           0.357741    \n",
       "16                                           0.357895    \n",
       "17                                           0.355895    \n",
       "18                                           0.276000    \n",
       "19                                           0.168959    \n",
       "20                                           0.372881    \n",
       "21                                           0.358519    \n",
       "22                                           0.204409    \n",
       "23                                           0.362683    \n",
       "24                                           0.353038    \n",
       "25                                           0.307457    \n",
       "26                                           0.373383    \n",
       "27                                           0.173121    \n",
       "28                                           0.340580    \n",
       "29                                           0.274052    \n",
       "30                                           0.234244    \n",
       "\n",
       "    % Stop Words to Total Words  Average Syllables Per Bar  \\\n",
       "0                      0.416216                   6.697248   \n",
       "1                      0.491597                  10.472527   \n",
       "2                      0.496523                  11.392857   \n",
       "3                      0.476895                  11.950000   \n",
       "4                      0.443411                  10.804878   \n",
       "5                      0.442038                  11.532609   \n",
       "6                      0.448214                   9.962500   \n",
       "7                      0.415020                  10.375000   \n",
       "8                      0.419512                  11.362319   \n",
       "9                      0.406557                  10.240000   \n",
       "10                     0.463415                   9.014085   \n",
       "11                     0.465035                  11.424242   \n",
       "12                     0.435337                   8.964286   \n",
       "13                     0.490881                  12.382353   \n",
       "14                     0.475472                  13.290698   \n",
       "15                     0.479079                  13.104167   \n",
       "16                     0.425564                  11.756098   \n",
       "17                     0.489083                  10.771930   \n",
       "18                     0.460000                   9.953125   \n",
       "19                     0.447937                   7.377778   \n",
       "20                     0.447458                   7.042735   \n",
       "21                     0.400000                  11.047619   \n",
       "22                     0.464930                   7.120879   \n",
       "23                     0.419287                   9.101449   \n",
       "24                     0.407225                  11.324675   \n",
       "25                     0.454545                  11.495798   \n",
       "26                     0.487985                  11.106061   \n",
       "27                     0.507973                   9.343750   \n",
       "28                     0.456522                   7.739130   \n",
       "29                     0.475219                   8.169811   \n",
       "30                     0.509454                   9.846774   \n",
       "\n",
       "    % Unique Rhymes to All Rhymes  % Couplets That Rhyme  \n",
       "0                        0.345238               1.541284  \n",
       "1                        1.000000               0.593407  \n",
       "2                        0.805556               0.857143  \n",
       "3                        0.937500               0.533333  \n",
       "4                        0.869565               0.560976  \n",
       "5                        0.656250               1.391304  \n",
       "6                        0.760000               0.625000  \n",
       "7                        0.833333               0.576923  \n",
       "8                        0.764706               0.985507  \n",
       "9                        0.911765               0.906667  \n",
       "10                       0.714286               0.788732  \n",
       "11                       1.000000               0.696970  \n",
       "12                       0.615385               1.238095  \n",
       "13                       0.529412               1.500000  \n",
       "14                       0.627451               1.186047  \n",
       "15                       0.880000               1.041667  \n",
       "16                       0.615385               1.268293  \n",
       "17                       0.800000               0.877193  \n",
       "18                       0.800000               0.937500  \n",
       "19                       0.370370               1.800000  \n",
       "20                       0.708333               0.820513  \n",
       "21                       0.545455               0.523810  \n",
       "22                       0.375000               1.582418  \n",
       "23                       0.710526               1.101449  \n",
       "24                       0.909091               0.571429  \n",
       "25                       0.740000               0.840336  \n",
       "26                       0.578947               1.151515  \n",
       "27                       0.500000               1.062500  \n",
       "28                       0.166667               1.739130  \n",
       "29                       0.333333               1.245283  \n",
       "30                       0.406593               1.467742  "
      ]
     },
     "execution_count": 15,
     "metadata": {},
     "output_type": "execute_result"
    }
   ],
   "source": [
    "songs_df"
   ]
  },
  {
   "cell_type": "markdown",
   "metadata": {},
   "source": [
    "## Plot the Data<a class=\"anchor\" id=\"plots\"></a>"
   ]
  },
  {
   "cell_type": "markdown",
   "metadata": {},
   "source": [
    "#### % Unique Words vs. Year<a class=\"anchor\" id=\"unique-plot\"></a>"
   ]
  },
  {
   "cell_type": "code",
   "execution_count": 16,
   "metadata": {},
   "outputs": [
    {
     "data": {
      "image/png": "[encoded data removed]",
      "text/plain": [
       "<Figure size 432x288 with 1 Axes>"
      ]
     },
     "metadata": {
      "needs_background": "light"
     },
     "output_type": "display_data"
    }
   ],
   "source": [
    "(sns.regplot(x='Year', y='% Unique Words to All Words (Excluding Stop Words)',data=songs_df, ci=None,\n",
    "             line_kws={'color': 'black'}, scatter_kws={'color': 'midnightblue'}))\n",
    "plt.title('% Unique Words vs. Year')\n",
    "plt.show()"
   ]
  },
  {
   "cell_type": "code",
   "execution_count": 17,
   "metadata": {},
   "outputs": [],
   "source": [
    "# calculate correlation coefficient, p-value, and standard error\n",
    "years = np.asarray(songs_df['Year'])\n",
    "unique_arr = np.asarray(songs_df['% Unique Words to All Words (Excluding Stop Words)'])\n",
    "unique_years_lin_reg = scipy.stats.linregress(years, unique_arr)\n",
    "unique_years_r = unique_years_lin_reg.rvalue\n",
    "unique_years_p = unique_years_lin_reg.pvalue\n",
    "unique_years_se = unique_years_lin_reg.stderr"
   ]
  },
  {
   "cell_type": "code",
   "execution_count": 18,
   "metadata": {},
   "outputs": [
    {
     "name": "stdout",
     "output_type": "stream",
     "text": [
      "Song with highest % of unique words:\n",
      "Title: \"It's All About The Benjamins (Remix)\"\n",
      "(feat. Lil' Kim, The Lox, Notorious B.I.G.)\n",
      "Year: 1997\n"
     ]
    }
   ],
   "source": [
    "# sort df to get highest song/year\n",
    "unique_words_sorted = songs_df.sort_values('% Unique Words to All Words (Excluding Stop Words)', ascending=False).reset_index(drop=True)\n",
    "most_unique_words_song = unique_words_sorted.iloc[0, 0]\n",
    "most_unique_words_year = unique_words_sorted.iloc[0, 1]\n",
    "print('Song with highest % of unique words:')\n",
    "print('Title:', most_unique_words_song)\n",
    "print('Year:', most_unique_words_year)"
   ]
  },
  {
   "cell_type": "code",
   "execution_count": 19,
   "metadata": {},
   "outputs": [
    {
     "name": "stdout",
     "output_type": "stream",
     "text": [
      "Song with lowest % of unique words:\n",
      "Title: \"Lollipop\"\n",
      "(feat. Static Major)\n",
      "Year: 2009\n"
     ]
    }
   ],
   "source": [
    "# sort df to get lowest song/year\n",
    "least_unique_words = songs_df.sort_values('% Unique Words to All Words (Excluding Stop Words)').reset_index(drop=True).iloc[0]\n",
    "least_unique_words_song, least_unique_words_year = least_unique_words[0], least_unique_words[1]\n",
    "print('Song with lowest % of unique words:')\n",
    "print('Title:',least_unique_words_song)\n",
    "print('Year:',least_unique_words_year)"
   ]
  },
  {
   "cell_type": "markdown",
   "metadata": {},
   "source": [
    "#### % Stop Words vs. Year<a class=\"anchor\" id=\"stops-plot\"></a>"
   ]
  },
  {
   "cell_type": "code",
   "execution_count": 20,
   "metadata": {
    "scrolled": true
   },
   "outputs": [
    {
     "data": {
      "image/png": "[encoded data removed]",
      "text/plain": [
       "<Figure size 432x288 with 1 Axes>"
      ]
     },
     "metadata": {
      "needs_background": "light"
     },
     "output_type": "display_data"
    }
   ],
   "source": [
    "(sns.regplot(x='Year', y='% Stop Words to Total Words', data=songs_df, ci=None, \n",
    "             line_kws={'color': 'black'}, scatter_kws={'color': 'blue'}))\n",
    "plt.title('% Stop Words vs. Year')\n",
    "plt.show()"
   ]
  },
  {
   "cell_type": "code",
   "execution_count": 21,
   "metadata": {},
   "outputs": [],
   "source": [
    "# calculate correlation coefficient, p-value, and standard error\n",
    "stop_arr = np.asarray(songs_df['% Stop Words to Total Words'])\n",
    "stop_years_lin_reg = scipy.stats.linregress(years, stop_arr)\n",
    "stop_years_r = stop_years_lin_reg.rvalue\n",
    "stop_years_p = stop_years_lin_reg.pvalue\n",
    "stop_years_se = stop_years_lin_reg.stderr"
   ]
  },
  {
   "cell_type": "code",
   "execution_count": 22,
   "metadata": {},
   "outputs": [
    {
     "name": "stdout",
     "output_type": "stream",
     "text": [
      "Song with lowest % of stop words:\n",
      "Title: \"Empire State Of Mind\"\n",
      "(feat. Alicia Keys)\n",
      "Year: 2011\n"
     ]
    }
   ],
   "source": [
    "# sort df to get highest/lowest song/year\n",
    "stop_words_sorted = songs_df.sort_values('% Stop Words to Total Words').reset_index(drop=True)\n",
    "least_stop_words_song = stop_words_sorted.iloc[0,0]\n",
    "least_stop_words_year = stop_words_sorted.iloc[0,1]\n",
    "stop_words_descending = stop_words_sorted.sort_values('% Stop Words to Total Words', ascending=False).reset_index(drop=True)\n",
    "most_stop_words_song = stop_words_descending.iloc[0,0]\n",
    "most_stop_words_year = stop_words_descending.iloc[0,1]\n",
    "print('Song with lowest % of stop words:')\n",
    "print('Title:', least_stop_words_song)\n",
    "print('Year:', least_stop_words_year)"
   ]
  },
  {
   "cell_type": "code",
   "execution_count": 23,
   "metadata": {},
   "outputs": [
    {
     "name": "stdout",
     "output_type": "stream",
     "text": [
      "Song with highest % of stop words:\n",
      "Title: \"a lot\"\n",
      "(feat. J. Cole)\n",
      "Year: 2020\n"
     ]
    }
   ],
   "source": [
    "print('Song with highest % of stop words:')\n",
    "print('Title:', most_stop_words_song)\n",
    "print('Year:', most_stop_words_year)"
   ]
  },
  {
   "cell_type": "markdown",
   "metadata": {},
   "source": [
    "#### Average Syllables Per Bar vs. Year<a class=\"anchor\" id=\"syllables-plot\"></a>"
   ]
  },
  {
   "cell_type": "code",
   "execution_count": 24,
   "metadata": {},
   "outputs": [
    {
     "data": {
      "image/png": "[encoded data removed]",
      "text/plain": [
       "<Figure size 432x288 with 1 Axes>"
      ]
     },
     "metadata": {
      "needs_background": "light"
     },
     "output_type": "display_data"
    }
   ],
   "source": [
    "(sns.regplot(x='Year', y='Average Syllables Per Bar', data=songs_df, ci=None, \n",
    "            line_kws={'color': 'black'}, scatter_kws={'color': 'royalblue'}))\n",
    "plt.title('Average Syllables Per Bar vs. Year')\n",
    "plt.show()"
   ]
  },
  {
   "cell_type": "code",
   "execution_count": 25,
   "metadata": {},
   "outputs": [],
   "source": [
    "# calculate correlation coefficient, p-value, and standard error\n",
    "syllables_arr = np.asarray(songs_df['Average Syllables Per Bar'])\n",
    "syllables_years_lin_reg = scipy.stats.linregress(years, syllables_arr)\n",
    "syllables_years_r = syllables_years_lin_reg.rvalue\n",
    "syllables_years_p = syllables_years_lin_reg.pvalue\n",
    "syllables_years_se = syllables_years_lin_reg.stderr"
   ]
  },
  {
   "cell_type": "code",
   "execution_count": 26,
   "metadata": {},
   "outputs": [
    {
     "name": "stdout",
     "output_type": "stream",
     "text": [
      "Song with most syllables per bar:\n",
      "Title: \"Lose Yourself\"\n",
      "Year: 2004\n"
     ]
    }
   ],
   "source": [
    "# sort df to get highest song/year\n",
    "syllables_sorted = songs_df.sort_values('Average Syllables Per Bar', ascending=False).reset_index(drop=True)\n",
    "most_syllables_song = syllables_sorted.iloc[0,0]\n",
    "most_syllables_year = syllables_sorted.iloc[0,1]\n",
    "print('Song with most syllables per bar:')\n",
    "print('Title:', most_syllables_song) \n",
    "print('Year:', most_syllables_year)"
   ]
  },
  {
   "cell_type": "code",
   "execution_count": 27,
   "metadata": {},
   "outputs": [
    {
     "name": "stdout",
     "output_type": "stream",
     "text": [
      "Song with least syllables per bar:\n",
      "Title: \"Mama Said Knock You Out\"\n",
      "Year: 1990\n"
     ]
    }
   ],
   "source": [
    "# sort df to get lowest song/year\n",
    "syllables_asc = syllables_sorted.sort_values('Average Syllables Per Bar').reset_index(drop=True)\n",
    "least_syllables_song = syllables_asc.iloc[0,0]\n",
    "least_syllables_year = syllables_asc.iloc[0,1]\n",
    "print('Song with least syllables per bar:')\n",
    "print('Title:', least_syllables_song)\n",
    "print('Year:', least_syllables_year)"
   ]
  },
  {
   "cell_type": "markdown",
   "metadata": {},
   "source": [
    "#### % Unique Rhymes vs Year<a class=\"anchor\" id=\"rhymes-plot\"></a>"
   ]
  },
  {
   "cell_type": "code",
   "execution_count": 28,
   "metadata": {
    "scrolled": true
   },
   "outputs": [
    {
     "data": {
      "image/png": "[encoded data removed]",
      "text/plain": [
       "<Figure size 432x288 with 1 Axes>"
      ]
     },
     "metadata": {
      "needs_background": "light"
     },
     "output_type": "display_data"
    }
   ],
   "source": [
    "(sns.regplot(x='Year', y='% Unique Rhymes to All Rhymes', data=songs_df, ci=None,\n",
    "            line_kws={'color': 'black'}, scatter_kws={'color': 'dodgerblue'}))\n",
    "plt.title('% Unique Rhymes vs. Year')\n",
    "plt.show()"
   ]
  },
  {
   "cell_type": "code",
   "execution_count": 29,
   "metadata": {},
   "outputs": [],
   "source": [
    "# calculate correlation coefficient, p-value, and standard error\n",
    "rhymes_arr = np.asarray(songs_df['% Unique Rhymes to All Rhymes'])\n",
    "rhymes_years_lin_reg = scipy.stats.linregress(years, rhymes_arr)\n",
    "rhymes_years_r = rhymes_years_lin_reg.rvalue\n",
    "rhymes_years_p = rhymes_years_lin_reg.pvalue\n",
    "rhymes_years_se = rhymes_years_lin_reg.stderr"
   ]
  },
  {
   "cell_type": "code",
   "execution_count": 30,
   "metadata": {},
   "outputs": [
    {
     "name": "stdout",
     "output_type": "stream",
     "text": [
      "Song with highest % of unique rhymes:\n",
      "Title: \"My Mind Playin' Tricks On Me\"\n",
      "Year: 1991\n"
     ]
    }
   ],
   "source": [
    "# sort df to get highest song/year\n",
    "rhymes_sorted = songs_df.sort_values('% Unique Rhymes to All Rhymes', ascending=False).reset_index(drop=True)\n",
    "highest_unique_rhymes_song = rhymes_sorted.iloc[0,0]\n",
    "highest_unique_rhymes_year = rhymes_sorted.iloc[0,1]\n",
    "print('Song with highest % of unique rhymes:')\n",
    "print('Title:', highest_unique_rhymes_song)\n",
    "print('Year:', highest_unique_rhymes_year)"
   ]
  },
  {
   "cell_type": "code",
   "execution_count": 31,
   "metadata": {},
   "outputs": [
    {
     "name": "stdout",
     "output_type": "stream",
     "text": [
      "Song with lowest % of unique rhymes:\n",
      "Title: \"HUMBLE.\"\n",
      "Year: 2018\n"
     ]
    }
   ],
   "source": [
    "# sort df to get lowest song/year\n",
    "rhymes_asc = rhymes_sorted.sort_values('% Unique Rhymes to All Rhymes').reset_index(drop=True)\n",
    "lowest_unique_rhymes_song = rhymes_asc.iloc[0,0]\n",
    "lowest_unique_rhymes_year = rhymes_asc.iloc[0,1]\n",
    "print('Song with lowest % of unique rhymes:')\n",
    "print('Title:', lowest_unique_rhymes_song)\n",
    "print('Year:', lowest_unique_rhymes_year)"
   ]
  },
  {
   "cell_type": "markdown",
   "metadata": {},
   "source": [
    "## Create Tables With Best and Worst Songs Based On the 4 Metrics<a class=\"anchor\" id=\"best-worst\"></a>"
   ]
  },
  {
   "cell_type": "code",
   "execution_count": 32,
   "metadata": {},
   "outputs": [],
   "source": [
    "best_songs = [most_unique_words_song, least_stop_words_song, most_syllables_song,highest_unique_rhymes_song]\n",
    "best_years = [most_unique_words_year, least_stop_words_year, most_syllables_year,highest_unique_rhymes_year]\n",
    "best_categories = ['Highest % Unique Words', 'Lowest % Stop Words', 'Highest Average Syllables Per Bar', 'Highest % Unique Rhymes']"
   ]
  },
  {
   "cell_type": "code",
   "execution_count": 33,
   "metadata": {},
   "outputs": [],
   "source": [
    "worst_songs = [least_unique_words_song, most_stop_words_song, least_syllables_song, lowest_unique_rhymes_song]\n",
    "worst_years = [least_unique_words_year, most_stop_words_year, least_syllables_year, lowest_unique_rhymes_year]\n",
    "worst_categories = ['Lowest % Unique Words', 'Highest % Stop Words', 'Lowest Average Syllables Per Bar', 'Lowest % Unique Rhymes']"
   ]
  },
  {
   "cell_type": "code",
   "execution_count": 34,
   "metadata": {},
   "outputs": [],
   "source": [
    "# replace the linebreaks in the song titles\n",
    "for i in range(len(best_songs)):\n",
    "    b = best_songs[i]\n",
    "    w = worst_songs[i]\n",
    "    b = b.replace('\\n', ' ')\n",
    "    w = w.replace('\\n', ' ')\n",
    "    best_songs[i] = b\n",
    "    worst_songs[i] = w"
   ]
  },
  {
   "cell_type": "code",
   "execution_count": 35,
   "metadata": {},
   "outputs": [],
   "source": [
    "# create the dfs, one for the songs that were best in each metric, one for songs that were worst\n",
    "best_songs_df = pd.DataFrame(data={'Category':best_categories, 'Song Title':best_songs, 'Year':best_years})\n",
    "worst_songs_df = pd.DataFrame(data={'Category':worst_categories, 'Song Title':worst_songs, 'Year':worst_years})"
   ]
  },
  {
   "cell_type": "code",
   "execution_count": 36,
   "metadata": {},
   "outputs": [
    {
     "data": {
      "text/html": [
       "<div>\n",
       "<style scoped>\n",
       "    .dataframe tbody tr th:only-of-type {\n",
       "        vertical-align: middle;\n",
       "    }\n",
       "\n",
       "    .dataframe tbody tr th {\n",
       "        vertical-align: top;\n",
       "    }\n",
       "\n",
       "    .dataframe thead th {\n",
       "        text-align: right;\n",
       "    }\n",
       "</style>\n",
       "<table border=\"1\" class=\"dataframe\">\n",
       "  <thead>\n",
       "    <tr style=\"text-align: right;\">\n",
       "      <th></th>\n",
       "      <th>Category</th>\n",
       "      <th>Song Title</th>\n",
       "      <th>Year</th>\n",
       "    </tr>\n",
       "  </thead>\n",
       "  <tbody>\n",
       "    <tr>\n",
       "      <td>0</td>\n",
       "      <td>Highest % Unique Words</td>\n",
       "      <td>\"It's All About The Benjamins (Remix)\" (feat. ...</td>\n",
       "      <td>1997</td>\n",
       "    </tr>\n",
       "    <tr>\n",
       "      <td>1</td>\n",
       "      <td>Lowest % Stop Words</td>\n",
       "      <td>\"Empire State Of Mind\" (feat. Alicia Keys)</td>\n",
       "      <td>2011</td>\n",
       "    </tr>\n",
       "    <tr>\n",
       "      <td>2</td>\n",
       "      <td>Highest Average Syllables Per Bar</td>\n",
       "      <td>\"Lose Yourself\"</td>\n",
       "      <td>2004</td>\n",
       "    </tr>\n",
       "    <tr>\n",
       "      <td>3</td>\n",
       "      <td>Highest % Unique Rhymes</td>\n",
       "      <td>\"My Mind Playin' Tricks On Me\"</td>\n",
       "      <td>1991</td>\n",
       "    </tr>\n",
       "  </tbody>\n",
       "</table>\n",
       "</div>"
      ],
      "text/plain": [
       "                            Category  \\\n",
       "0             Highest % Unique Words   \n",
       "1                Lowest % Stop Words   \n",
       "2  Highest Average Syllables Per Bar   \n",
       "3            Highest % Unique Rhymes   \n",
       "\n",
       "                                          Song Title  Year  \n",
       "0  \"It's All About The Benjamins (Remix)\" (feat. ...  1997  \n",
       "1         \"Empire State Of Mind\" (feat. Alicia Keys)  2011  \n",
       "2                                    \"Lose Yourself\"  2004  \n",
       "3                     \"My Mind Playin' Tricks On Me\"  1991  "
      ]
     },
     "execution_count": 36,
     "metadata": {},
     "output_type": "execute_result"
    }
   ],
   "source": [
    "best_songs_df"
   ]
  },
  {
   "cell_type": "code",
   "execution_count": 37,
   "metadata": {},
   "outputs": [
    {
     "data": {
      "text/html": [
       "<div>\n",
       "<style scoped>\n",
       "    .dataframe tbody tr th:only-of-type {\n",
       "        vertical-align: middle;\n",
       "    }\n",
       "\n",
       "    .dataframe tbody tr th {\n",
       "        vertical-align: top;\n",
       "    }\n",
       "\n",
       "    .dataframe thead th {\n",
       "        text-align: right;\n",
       "    }\n",
       "</style>\n",
       "<table border=\"1\" class=\"dataframe\">\n",
       "  <thead>\n",
       "    <tr style=\"text-align: right;\">\n",
       "      <th></th>\n",
       "      <th>Category</th>\n",
       "      <th>Song Title</th>\n",
       "      <th>Year</th>\n",
       "    </tr>\n",
       "  </thead>\n",
       "  <tbody>\n",
       "    <tr>\n",
       "      <td>0</td>\n",
       "      <td>Lowest % Unique Words</td>\n",
       "      <td>\"Lollipop\" (feat. Static Major)</td>\n",
       "      <td>2009</td>\n",
       "    </tr>\n",
       "    <tr>\n",
       "      <td>1</td>\n",
       "      <td>Highest % Stop Words</td>\n",
       "      <td>\"a lot\" (feat. J. Cole)</td>\n",
       "      <td>2020</td>\n",
       "    </tr>\n",
       "    <tr>\n",
       "      <td>2</td>\n",
       "      <td>Lowest Average Syllables Per Bar</td>\n",
       "      <td>\"Mama Said Knock You Out\"</td>\n",
       "      <td>1990</td>\n",
       "    </tr>\n",
       "    <tr>\n",
       "      <td>3</td>\n",
       "      <td>Lowest % Unique Rhymes</td>\n",
       "      <td>\"HUMBLE.\"</td>\n",
       "      <td>2018</td>\n",
       "    </tr>\n",
       "  </tbody>\n",
       "</table>\n",
       "</div>"
      ],
      "text/plain": [
       "                           Category                       Song Title  Year\n",
       "0             Lowest % Unique Words  \"Lollipop\" (feat. Static Major)  2009\n",
       "1              Highest % Stop Words          \"a lot\" (feat. J. Cole)  2020\n",
       "2  Lowest Average Syllables Per Bar        \"Mama Said Knock You Out\"  1990\n",
       "3            Lowest % Unique Rhymes                        \"HUMBLE.\"  2018"
      ]
     },
     "execution_count": 37,
     "metadata": {},
     "output_type": "execute_result"
    }
   ],
   "source": [
    "worst_songs_df"
   ]
  },
  {
   "cell_type": "markdown",
   "metadata": {},
   "source": [
    "### Calculate The Statistics To Determine Which Metrics Are Most Meaningful<a class=\"anchor\" id=\"statistics\"></a>\n",
    "\n",
    "* Null hypothesis: Rap songs made in the 21st century are not worse than rap songs made in the 90's.\n",
    "* Alternative hypothesis: Rap songs made in the 21st century are worse than rap songs made in the 90's.\n",
    "* Alpha value: 0.05"
   ]
  },
  {
   "cell_type": "code",
   "execution_count": 38,
   "metadata": {},
   "outputs": [],
   "source": [
    "r_values = [unique_years_r, stop_years_r, syllables_years_r, rhymes_years_r]\n",
    "p_values = [unique_years_p, stop_years_p, syllables_years_p, rhymes_years_p]\n",
    "se_values = [unique_years_se, stop_years_se, syllables_years_se, rhymes_years_se]\n",
    "statistic_names = ['Correlation Coefficient', 'P-Value', 'Standard Error']\n",
    "metric_names = ['% Unique Words to All Words (Excluding Stop Words)', '% Stop Words to Total Words', \n",
    "               'Average Syllables Per Bar','% Unique Rhymes to All Rhymes']"
   ]
  },
  {
   "cell_type": "code",
   "execution_count": 39,
   "metadata": {},
   "outputs": [],
   "source": [
    "# create df for each statistic for each metric\n",
    "statistics_df = pd.DataFrame(data={'Metric':metric_names, statistic_names[0]:r_values, statistic_names[1]:p_values, statistic_names[2]:se_values})"
   ]
  },
  {
   "cell_type": "code",
   "execution_count": 40,
   "metadata": {},
   "outputs": [
    {
     "data": {
      "text/html": [
       "<div>\n",
       "<style scoped>\n",
       "    .dataframe tbody tr th:only-of-type {\n",
       "        vertical-align: middle;\n",
       "    }\n",
       "\n",
       "    .dataframe tbody tr th {\n",
       "        vertical-align: top;\n",
       "    }\n",
       "\n",
       "    .dataframe thead th {\n",
       "        text-align: right;\n",
       "    }\n",
       "</style>\n",
       "<table border=\"1\" class=\"dataframe\">\n",
       "  <thead>\n",
       "    <tr style=\"text-align: right;\">\n",
       "      <th></th>\n",
       "      <th>Metric</th>\n",
       "      <th>Correlation Coefficient</th>\n",
       "      <th>P-Value</th>\n",
       "      <th>Standard Error</th>\n",
       "    </tr>\n",
       "  </thead>\n",
       "  <tbody>\n",
       "    <tr>\n",
       "      <td>0</td>\n",
       "      <td>% Unique Rhymes to All Rhymes</td>\n",
       "      <td>-0.516433</td>\n",
       "      <td>0.002937</td>\n",
       "      <td>0.003769</td>\n",
       "    </tr>\n",
       "    <tr>\n",
       "      <td>1</td>\n",
       "      <td>% Unique Words to All Words (Excluding Stop Wo...</td>\n",
       "      <td>-0.364302</td>\n",
       "      <td>0.043922</td>\n",
       "      <td>0.001261</td>\n",
       "    </tr>\n",
       "    <tr>\n",
       "      <td>2</td>\n",
       "      <td>Average Syllables Per Bar</td>\n",
       "      <td>-0.230123</td>\n",
       "      <td>0.212980</td>\n",
       "      <td>0.035283</td>\n",
       "    </tr>\n",
       "    <tr>\n",
       "      <td>3</td>\n",
       "      <td>% Stop Words to Total Words</td>\n",
       "      <td>0.169811</td>\n",
       "      <td>0.361098</td>\n",
       "      <td>0.000632</td>\n",
       "    </tr>\n",
       "  </tbody>\n",
       "</table>\n",
       "</div>"
      ],
      "text/plain": [
       "                                              Metric  Correlation Coefficient  \\\n",
       "0                      % Unique Rhymes to All Rhymes                -0.516433   \n",
       "1  % Unique Words to All Words (Excluding Stop Wo...                -0.364302   \n",
       "2                          Average Syllables Per Bar                -0.230123   \n",
       "3                        % Stop Words to Total Words                 0.169811   \n",
       "\n",
       "    P-Value  Standard Error  \n",
       "0  0.002937        0.003769  \n",
       "1  0.043922        0.001261  \n",
       "2  0.212980        0.035283  \n",
       "3  0.361098        0.000632  "
      ]
     },
     "execution_count": 40,
     "metadata": {},
     "output_type": "execute_result"
    }
   ],
   "source": [
    "statistics_df = statistics_df.sort_values('P-Value').reset_index(drop=True)\n",
    "statistics_df"
   ]
  },
  {
   "cell_type": "markdown",
   "metadata": {},
   "source": [
    "# Conclusion<a class=\"anchor\" id=\"conclusion\"></a>\n",
    "\n",
    "According to the above statistics, the most statistically significant metric, as well as the one with the highest correlation, is **% Unique Rhymes to All Rhymes**. The only other statistically significant metric, which also has the second best correlation, is **% Unique Words to All Words (Excluding Stop Words)**.\n",
    "\n",
    "Based on these statistically significant metrics, it does appear the hip-hop has in fact gotten worse over the years, as far as unique rhymes and words go. The data seems to show a negative trend in the quality of lyrics in mainstream rap songs. \n",
    "\n",
    "Personally, I don't think this apparent negative trend indicates that rappers today have worse skills or artistry. Instead, I believe as hip-hop has grown to become [the most popular genre of music](https://www.usatoday.com/story/life/music/2018/01/03/rap-overtakes-rock-most-popular-genre-among-music-fans-heres-why/990873001/), it has become, over time, increasingly more commercialized and marketed. With this shift comes more and more hip-hop songs being circulated and more songs with lower lyrical complexity, which appeal to younger and/or more general audiences. \n",
    "\n",
    "All in all, this data and analysis demonstrate the potential negative effects of growing popularity and commericialization of the hip-hop music genre on the quality of music. With the continuing increase of rap music sales, more prevalent commerical use of rap songs, and broadening access to music for consumers' (especially those of younger demographics), it is no mystery as to why this negative trend in lyrical complexity is observed. \n",
    "\n",
    "But, as rap ages as a genre and becomes more popular and accessible, not only in the United States but worldwide, the amount of lyrically intricate and skillfully made rap songs will only grow. While finding such songs may be harder as the number of rappers and rap songs increase, it may also become easier as access to music and media increases everywhere. "
   ]
  }
 ],
 "metadata": {
  "kernelspec": {
   "display_name": "Python 3",
   "language": "python",
   "name": "python3"
  },
  "language_info": {
   "codemirror_mode": {
    "name": "ipython",
    "version": 3
   },
   "file_extension": ".py",
   "mimetype": "text/x-python",
   "name": "python",
   "nbconvert_exporter": "python",
   "pygments_lexer": "ipython3",
   "version": "3.7.4"
  }
 },
 "nbformat": 4,
 "nbformat_minor": 2
}
